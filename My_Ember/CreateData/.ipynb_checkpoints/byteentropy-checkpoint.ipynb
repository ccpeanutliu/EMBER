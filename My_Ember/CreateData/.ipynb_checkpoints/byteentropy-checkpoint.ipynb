{
 "cells": [
  {
   "cell_type": "code",
   "execution_count": 3,
   "metadata": {},
   "outputs": [],
   "source": [
    "import numpy as np\n",
    "import pefile\n",
    "import matplotlib.pyplot as plt\n",
    "from scipy.stats import entropy\n",
    "from os import listdir\n",
    "from os.path import isfile, isdir, join"
   ]
  },
  {
   "cell_type": "code",
   "execution_count": 4,
   "metadata": {},
   "outputs": [],
   "source": [
    "# 指定要列出所有檔案的目錄\n",
    "mypath = \"./data/benignware\"\n",
    "\n",
    "# 取得所有檔案與子目錄名稱\n",
    "files = listdir(mypath)\n",
    "\n",
    "#%%\n",
    "npsl = []\n",
    "for f in files:\n",
    "    fullpath = mypath + \"/\" + f\n",
    "    if isfile(fullpath):\n",
    "        in_file = open(fullpath,\"rb\")\n",
    "        sl = in_file.read()\n",
    "        in_file.close()\n",
    "        n = len(sl)\n",
    "        hist = []\n",
    "        for i in range(n):\n",
    "            hist.append(sl[i])\n",
    "        npsl.append(hist)"
   ]
  },
  {
   "cell_type": "markdown",
   "metadata": {},
   "source": [
    "in_file = open(\"./Benign/benignware/62577943b834515895306bdfa99318a5f8b2ab11\",\"rb\")\n",
    "data = in_file.read()\n",
    "in_file.close()"
   ]
  },
  {
   "cell_type": "markdown",
   "metadata": {},
   "source": [
    "out_file = open(\"./Benign/out_file\",\"wb\")\n",
    "out_file.write(data)\n",
    "out_file.close()"
   ]
  },
  {
   "cell_type": "markdown",
   "metadata": {},
   "source": [
    "n = len(data)\n",
    "hist = []\n",
    "for i in range(n):\n",
    "    hist.append(data[i])"
   ]
  },
  {
   "cell_type": "code",
   "execution_count": 5,
   "metadata": {},
   "outputs": [],
   "source": [
    "def entropy1(labels, base=None):\n",
    "    value,counts = np.unique(labels, return_counts=True)\n",
    "    return entropy(counts, base=base)"
   ]
  },
  {
   "cell_type": "markdown",
   "metadata": {},
   "source": [
    "1024 byte window over an input binary, with a step size\n",
    "of 256 bytes"
   ]
  },
  {
   "cell_type": "code",
   "execution_count": 4,
   "metadata": {},
   "outputs": [
    {
     "ename": "IndexError",
     "evalue": "list index out of range",
     "output_type": "error",
     "traceback": [
      "\u001b[1;31m---------------------------------------------------------------------------\u001b[0m",
      "\u001b[1;31mIndexError\u001b[0m                                Traceback (most recent call last)",
      "\u001b[1;32m<ipython-input-4-d0924ff1dbc3>\u001b[0m in \u001b[0;36m<module>\u001b[1;34m\u001b[0m\n\u001b[0;32m     75\u001b[0m     \u001b[0mtmp\u001b[0m \u001b[1;33m=\u001b[0m \u001b[1;36m0\u001b[0m\u001b[1;33m\u001b[0m\u001b[1;33m\u001b[0m\u001b[0m\n\u001b[0;32m     76\u001b[0m     \u001b[0mtmp_arr\u001b[0m \u001b[1;33m=\u001b[0m \u001b[1;33m[\u001b[0m\u001b[1;33m]\u001b[0m\u001b[1;33m\u001b[0m\u001b[1;33m\u001b[0m\u001b[0m\n\u001b[1;32m---> 77\u001b[1;33m     \u001b[1;32mwhile\u001b[0m \u001b[0mtmp\u001b[0m \u001b[1;33m<\u001b[0m \u001b[0mlen\u001b[0m\u001b[1;33m(\u001b[0m\u001b[0mnpsl\u001b[0m\u001b[1;33m[\u001b[0m\u001b[0mobj\u001b[0m\u001b[1;33m]\u001b[0m\u001b[1;33m)\u001b[0m\u001b[1;33m:\u001b[0m\u001b[1;33m\u001b[0m\u001b[1;33m\u001b[0m\u001b[0m\n\u001b[0m\u001b[0;32m     78\u001b[0m         \u001b[0msave\u001b[0m \u001b[1;33m=\u001b[0m \u001b[0mlen\u001b[0m\u001b[1;33m(\u001b[0m\u001b[0mnpsl\u001b[0m\u001b[1;33m[\u001b[0m\u001b[0mobj\u001b[0m\u001b[1;33m]\u001b[0m\u001b[1;33m[\u001b[0m\u001b[0mtmp\u001b[0m\u001b[1;33m:\u001b[0m\u001b[0mtmp\u001b[0m\u001b[1;33m+\u001b[0m\u001b[0mwindow\u001b[0m\u001b[1;33m]\u001b[0m\u001b[1;33m)\u001b[0m\u001b[1;33m\u001b[0m\u001b[1;33m\u001b[0m\u001b[0m\n\u001b[0;32m     79\u001b[0m         \u001b[1;32mif\u001b[0m \u001b[0msave\u001b[0m \u001b[1;33m==\u001b[0m \u001b[1;36m1024\u001b[0m\u001b[1;33m:\u001b[0m\u001b[1;33m\u001b[0m\u001b[1;33m\u001b[0m\u001b[0m\n",
      "\u001b[1;31mIndexError\u001b[0m: list index out of range"
     ]
    },
    {
     "data": {
      "text/plain": [
       "<Figure size 432x288 with 0 Axes>"
      ]
     },
     "metadata": {},
     "output_type": "display_data"
    }
   ],
   "source": [
    "window = 1024\n",
    "step_size = 256\n",
    "tmp = 0\n",
    "count = 0\n",
    "train = []\n",
    "\n",
    "# 指定要列出所有檔案的目錄\n",
    "mypath = \"./Benign/benignware\"\n",
    "\n",
    "# 取得所有檔案與子目錄名稱\n",
    "files = listdir(mypath)\n",
    "\n",
    "#%%\n",
    "npsl = []\n",
    "for f in files:\n",
    "    fullpath = mypath + \"/\" + f\n",
    "    if isfile(fullpath):\n",
    "        in_file = open(fullpath,\"rb\")\n",
    "        sl = in_file.read()\n",
    "        in_file.close()\n",
    "        n = len(sl)\n",
    "        hist = []\n",
    "        for i in range(n):\n",
    "            hist.append(sl[i])\n",
    "        npsl.append(hist)\n",
    "\n",
    "for obj in range(991):\n",
    "    count = 0\n",
    "    tmp = 0\n",
    "    tmp_arr = []\n",
    "    while tmp < len(npsl[obj]):\n",
    "        save = len(npsl[obj][tmp:tmp+window])\n",
    "        if save == 1024:\n",
    "            tmp_arr.append(npsl[obj][tmp:tmp+window])\n",
    "        else:\n",
    "            tmp_arr.append(npsl[obj][tmp:tmp+window])\n",
    "            for i in range(1024 - save):\n",
    "                tmp_arr[count].append(0)\n",
    "        count += 1\n",
    "        tmp += step_size\n",
    "    tmp_arr = np.array(tmp_arr)\n",
    "    tmp_n = len(tmp_arr)\n",
    "    byteentropy = np.zeros(tmp_n)\n",
    "    for i in range(tmp_n):\n",
    "        try:\n",
    "            byteentropy[i] = entropy1(tmp_arr[i], base = 2)\n",
    "        except:\n",
    "            continue\n",
    "    train.append(plt.hist(byteentropy, 256))\n",
    "#    plt.savefig(\"./img_benign/\"+str(obj)+\".jpg\")\n",
    "    plt.clf()\n",
    "\n",
    "# 指定要列出所有檔案的目錄\n",
    "mypath = \"./Benign/malware\"\n",
    "\n",
    "# 取得所有檔案與子目錄名稱\n",
    "files = listdir(mypath)\n",
    "\n",
    "#%%\n",
    "npsl = []\n",
    "for f in files:\n",
    "    fullpath = mypath + \"/\" + f\n",
    "    if isfile(fullpath):\n",
    "        in_file = open(fullpath,\"rb\")\n",
    "        sl = in_file.read()\n",
    "        in_file.close()\n",
    "        n = len(sl)\n",
    "        hist = []\n",
    "        for i in range(n):\n",
    "            hist.append(sl[i])\n",
    "        npsl.append(hist)\n",
    "\n",
    "for obj in range(316):\n",
    "    count = 0\n",
    "    tmp = 0\n",
    "    tmp_arr = []\n",
    "    while tmp < len(npsl[obj]):\n",
    "        save = len(npsl[obj][tmp:tmp+window])\n",
    "        if save == 1024:\n",
    "            tmp_arr.append(npsl[obj][tmp:tmp+window])\n",
    "        else:\n",
    "            tmp_arr.append(npsl[obj][tmp:tmp+window])\n",
    "            for i in range(1024 - save):\n",
    "                tmp_arr[count].append(0)\n",
    "        count += 1\n",
    "        tmp += step_size\n",
    "    tmp_arr = np.array(tmp_arr)\n",
    "    tmp_n = len(tmp_arr)\n",
    "    byteentropy = np.zeros(tmp_n)\n",
    "    for i in range(tmp_n):\n",
    "        try:\n",
    "            byteentropy[i] = entropy1(tmp_arr[i], base = 2)\n",
    "        except:\n",
    "            continue\n",
    "    train.append(plt.hist(byteentropy, 256))\n",
    "#    plt.savefig(\"./img_benign/\"+str(obj)+\".jpg\")\n",
    "    plt.clf()"
   ]
  },
  {
   "cell_type": "code",
   "execution_count": 35,
   "metadata": {},
   "outputs": [
    {
     "data": {
      "image/png": "[encoded data removed]",
      "text/plain": [
       "<Figure size 432x288 with 1 Axes>"
      ]
     },
     "metadata": {
      "needs_background": "light"
     },
     "output_type": "display_data"
    }
   ],
   "source": [
    "plt.hist(byteentropy, 256)\n",
    "plt.show()"
   ]
  }
 ],
 "metadata": {
  "kernelspec": {
   "display_name": "Python 3",
   "language": "python",
   "name": "python3"
  },
  "language_info": {
   "codemirror_mode": {
    "name": "ipython",
    "version": 3
   },
   "file_extension": ".py",
   "mimetype": "text/x-python",
   "name": "python",
   "nbconvert_exporter": "python",
   "pygments_lexer": "ipython3",
   "version": "3.5.3"
  }
 },
 "nbformat": 4,
 "nbformat_minor": 2
}
